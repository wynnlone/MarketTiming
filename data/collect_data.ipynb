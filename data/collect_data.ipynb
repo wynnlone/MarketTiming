{
 "cells": [
  {
   "cell_type": "code",
   "execution_count": null,
   "id": "f014954e",
   "metadata": {},
   "outputs": [],
   "source": [
    "#!pip install yahoofinancials\n",
    "#pip install yfinance"
   ]
  },
  {
   "cell_type": "code",
   "execution_count": 1,
   "id": "db381b5e",
   "metadata": {},
   "outputs": [],
   "source": [
    "from tqdm import tqdm\n",
    "from datetime import datetime, timedelta\n",
    "import re\n",
    "import os\n",
    "import pandas as pd"
   ]
  },
  {
   "cell_type": "code",
   "execution_count": 2,
   "id": "6fa648f9",
   "metadata": {},
   "outputs": [],
   "source": [
    "tickers_SP500 = pd.read_html('https://en.wikipedia.org/wiki/List_of_S%26P_500_companies')[0]['Symbol'].to_list()\n",
    "tickers_Nasdaq100 = pd.read_html('https://en.wikipedia.org/wiki/Nasdaq-100#External_links')[4][\"Ticker\"].to_list()"
   ]
  },
  {
   "cell_type": "code",
   "execution_count": 3,
   "id": "22da973f",
   "metadata": {},
   "outputs": [
    {
     "name": "stderr",
     "output_type": "stream",
     "text": [
      "Processing: 100%|██████████| 5/5 [00:07<00:00,  1.60s/tickers]\n"
     ]
    }
   ],
   "source": [
    "import yfinance as yf\n",
    "tickers = ['^IXIC','^GSPC','^DJI','AAPL','TQQQ']\n",
    "\n",
    "for ticker in tqdm(tickers, desc=\"Processing\", unit=\"tickers\"):\n",
    "    stock = yf.Ticker(ticker)\n",
    "    df = stock.history(start=\"2004-01-01\", end=\"2024-01-01\", interval=\"1d\")\n",
    "    df['ticker'] = ticker\n",
    "    \n",
    "    df.to_csv(f'yf/{ticker}.csv')"
   ]
  },
  {
   "cell_type": "code",
   "execution_count": 5,
   "id": "0b9ad779",
   "metadata": {},
   "outputs": [
    {
     "name": "stderr",
     "output_type": "stream",
     "text": [
      "Processing: 100%|██████████| 3/3 [00:03<00:00,  1.22s/tickers]\n"
     ]
    }
   ],
   "source": [
    "from yahoofinancials import YahooFinancials\n",
    "tickers = ['^IXIC','^GSPC','^DJI']\n",
    "\n",
    "for ticker in tqdm(tickers, desc=\"Processing\", unit=\"tickers\"):\n",
    "    yahoo_financials = YahooFinancials(ticker)\n",
    "    data = yahoo_financials.get_historical_price_data(start_date='2004-01-01', \n",
    "                                                      end_date='2024-01-01', \n",
    "                                                      time_interval='daily')\n",
    "    df = pd.DataFrame(data[ticker]['prices'])\n",
    "    df['ticker'] = ticker\n",
    "    df.to_csv(f'yf/{ticker}.csv', index = False)"
   ]
  },
  {
   "cell_type": "code",
   "execution_count": 6,
   "id": "0fde76ba",
   "metadata": {},
   "outputs": [
    {
     "data": {
      "text/html": [
       "<div>\n",
       "<style scoped>\n",
       "    .dataframe tbody tr th:only-of-type {\n",
       "        vertical-align: middle;\n",
       "    }\n",
       "\n",
       "    .dataframe tbody tr th {\n",
       "        vertical-align: top;\n",
       "    }\n",
       "\n",
       "    .dataframe thead th {\n",
       "        text-align: right;\n",
       "    }\n",
       "</style>\n",
       "<table border=\"1\" class=\"dataframe\">\n",
       "  <thead>\n",
       "    <tr style=\"text-align: right;\">\n",
       "      <th></th>\n",
       "      <th>date</th>\n",
       "      <th>high</th>\n",
       "      <th>low</th>\n",
       "      <th>open</th>\n",
       "      <th>close</th>\n",
       "      <th>volume</th>\n",
       "      <th>adjclose</th>\n",
       "      <th>formatted_date</th>\n",
       "      <th>ticker</th>\n",
       "    </tr>\n",
       "  </thead>\n",
       "  <tbody>\n",
       "    <tr>\n",
       "      <th>0</th>\n",
       "      <td>1073053800</td>\n",
       "      <td>10527.030273</td>\n",
       "      <td>10384.299805</td>\n",
       "      <td>10452.740234</td>\n",
       "      <td>10409.849609</td>\n",
       "      <td>168890000</td>\n",
       "      <td>10409.849609</td>\n",
       "      <td>2004-01-02</td>\n",
       "      <td>^DJI</td>\n",
       "    </tr>\n",
       "    <tr>\n",
       "      <th>1</th>\n",
       "      <td>1073313000</td>\n",
       "      <td>10544.070312</td>\n",
       "      <td>10411.849609</td>\n",
       "      <td>10411.849609</td>\n",
       "      <td>10544.070312</td>\n",
       "      <td>221290000</td>\n",
       "      <td>10544.070312</td>\n",
       "      <td>2004-01-05</td>\n",
       "      <td>^DJI</td>\n",
       "    </tr>\n",
       "    <tr>\n",
       "      <th>2</th>\n",
       "      <td>1073399400</td>\n",
       "      <td>10549.179688</td>\n",
       "      <td>10499.849609</td>\n",
       "      <td>10543.849609</td>\n",
       "      <td>10538.660156</td>\n",
       "      <td>191460000</td>\n",
       "      <td>10538.660156</td>\n",
       "      <td>2004-01-06</td>\n",
       "      <td>^DJI</td>\n",
       "    </tr>\n",
       "    <tr>\n",
       "      <th>3</th>\n",
       "      <td>1073485800</td>\n",
       "      <td>10539.459961</td>\n",
       "      <td>10466.290039</td>\n",
       "      <td>10535.459961</td>\n",
       "      <td>10529.030273</td>\n",
       "      <td>225490000</td>\n",
       "      <td>10529.030273</td>\n",
       "      <td>2004-01-07</td>\n",
       "      <td>^DJI</td>\n",
       "    </tr>\n",
       "    <tr>\n",
       "      <th>4</th>\n",
       "      <td>1073572200</td>\n",
       "      <td>10592.589844</td>\n",
       "      <td>10530.070312</td>\n",
       "      <td>10530.070312</td>\n",
       "      <td>10592.440430</td>\n",
       "      <td>237770000</td>\n",
       "      <td>10592.440430</td>\n",
       "      <td>2004-01-08</td>\n",
       "      <td>^DJI</td>\n",
       "    </tr>\n",
       "    <tr>\n",
       "      <th>...</th>\n",
       "      <td>...</td>\n",
       "      <td>...</td>\n",
       "      <td>...</td>\n",
       "      <td>...</td>\n",
       "      <td>...</td>\n",
       "      <td>...</td>\n",
       "      <td>...</td>\n",
       "      <td>...</td>\n",
       "      <td>...</td>\n",
       "    </tr>\n",
       "    <tr>\n",
       "      <th>5028</th>\n",
       "      <td>1703255400</td>\n",
       "      <td>37534.519531</td>\n",
       "      <td>37268.878906</td>\n",
       "      <td>37349.269531</td>\n",
       "      <td>37385.968750</td>\n",
       "      <td>252970000</td>\n",
       "      <td>37385.968750</td>\n",
       "      <td>2023-12-22</td>\n",
       "      <td>^DJI</td>\n",
       "    </tr>\n",
       "    <tr>\n",
       "      <th>5029</th>\n",
       "      <td>1703601000</td>\n",
       "      <td>37617.988281</td>\n",
       "      <td>37371.828125</td>\n",
       "      <td>37405.898438</td>\n",
       "      <td>37545.328125</td>\n",
       "      <td>212420000</td>\n",
       "      <td>37545.328125</td>\n",
       "      <td>2023-12-26</td>\n",
       "      <td>^DJI</td>\n",
       "    </tr>\n",
       "    <tr>\n",
       "      <th>5030</th>\n",
       "      <td>1703687400</td>\n",
       "      <td>37683.699219</td>\n",
       "      <td>37488.601562</td>\n",
       "      <td>37518.621094</td>\n",
       "      <td>37656.519531</td>\n",
       "      <td>245530000</td>\n",
       "      <td>37656.519531</td>\n",
       "      <td>2023-12-27</td>\n",
       "      <td>^DJI</td>\n",
       "    </tr>\n",
       "    <tr>\n",
       "      <th>5031</th>\n",
       "      <td>1703773800</td>\n",
       "      <td>37778.851562</td>\n",
       "      <td>37650.980469</td>\n",
       "      <td>37661.519531</td>\n",
       "      <td>37710.101562</td>\n",
       "      <td>199550000</td>\n",
       "      <td>37710.101562</td>\n",
       "      <td>2023-12-28</td>\n",
       "      <td>^DJI</td>\n",
       "    </tr>\n",
       "    <tr>\n",
       "      <th>5032</th>\n",
       "      <td>1703860200</td>\n",
       "      <td>37759.429688</td>\n",
       "      <td>37538.800781</td>\n",
       "      <td>37701.628906</td>\n",
       "      <td>37689.539062</td>\n",
       "      <td>234570000</td>\n",
       "      <td>37689.539062</td>\n",
       "      <td>2023-12-29</td>\n",
       "      <td>^DJI</td>\n",
       "    </tr>\n",
       "  </tbody>\n",
       "</table>\n",
       "<p>5033 rows × 9 columns</p>\n",
       "</div>"
      ],
      "text/plain": [
       "            date          high           low          open         close  \\\n",
       "0     1073053800  10527.030273  10384.299805  10452.740234  10409.849609   \n",
       "1     1073313000  10544.070312  10411.849609  10411.849609  10544.070312   \n",
       "2     1073399400  10549.179688  10499.849609  10543.849609  10538.660156   \n",
       "3     1073485800  10539.459961  10466.290039  10535.459961  10529.030273   \n",
       "4     1073572200  10592.589844  10530.070312  10530.070312  10592.440430   \n",
       "...          ...           ...           ...           ...           ...   \n",
       "5028  1703255400  37534.519531  37268.878906  37349.269531  37385.968750   \n",
       "5029  1703601000  37617.988281  37371.828125  37405.898438  37545.328125   \n",
       "5030  1703687400  37683.699219  37488.601562  37518.621094  37656.519531   \n",
       "5031  1703773800  37778.851562  37650.980469  37661.519531  37710.101562   \n",
       "5032  1703860200  37759.429688  37538.800781  37701.628906  37689.539062   \n",
       "\n",
       "         volume      adjclose formatted_date ticker  \n",
       "0     168890000  10409.849609     2004-01-02   ^DJI  \n",
       "1     221290000  10544.070312     2004-01-05   ^DJI  \n",
       "2     191460000  10538.660156     2004-01-06   ^DJI  \n",
       "3     225490000  10529.030273     2004-01-07   ^DJI  \n",
       "4     237770000  10592.440430     2004-01-08   ^DJI  \n",
       "...         ...           ...            ...    ...  \n",
       "5028  252970000  37385.968750     2023-12-22   ^DJI  \n",
       "5029  212420000  37545.328125     2023-12-26   ^DJI  \n",
       "5030  245530000  37656.519531     2023-12-27   ^DJI  \n",
       "5031  199550000  37710.101562     2023-12-28   ^DJI  \n",
       "5032  234570000  37689.539062     2023-12-29   ^DJI  \n",
       "\n",
       "[5033 rows x 9 columns]"
      ]
     },
     "execution_count": 6,
     "metadata": {},
     "output_type": "execute_result"
    }
   ],
   "source": [
    "df"
   ]
  },
  {
   "cell_type": "code",
   "execution_count": 9,
   "id": "f036e6dc",
   "metadata": {},
   "outputs": [
    {
     "name": "stderr",
     "output_type": "stream",
     "text": [
      "Processing: 100%|██████████| 101/101 [16:44<00:00,  9.95s/tickers]"
     ]
    },
    {
     "name": "stdout",
     "output_type": "stream",
     "text": [
      "Download completed!\n"
     ]
    },
    {
     "name": "stderr",
     "output_type": "stream",
     "text": [
      "\n"
     ]
    }
   ],
   "source": [
    "tickers = tickers_Nasdaq100\n",
    "\n",
    "for ticker in tqdm(tickers, desc=\"Processing\", unit=\"tickers\"):\n",
    "    \n",
    "    ticker = re.sub(r'\\.', '-', ticker)\n",
    "   \n",
    "    yahoo_financials = YahooFinancials(ticker)\n",
    "    data = yahoo_financials.get_historical_price_data(start_date='2004-01-01', \n",
    "                                                      end_date='2024-01-01', \n",
    "                                                      time_interval='daily')\n",
    "    df = pd.DataFrame(data[ticker]['prices'])\n",
    "    df['ticker'] = ticker\n",
    "    df.to_csv(f'yf/{ticker}.csv', index = False)\n",
    "\n",
    "\n",
    "print(\"Download completed!\")"
   ]
  },
  {
   "cell_type": "code",
   "execution_count": null,
   "id": "3a0e7c04",
   "metadata": {},
   "outputs": [],
   "source": [
    "tickers = tickers_SP500\n",
    "\n",
    "current_date = datetime.now()\n",
    "current_date_str = current_date.strftime(\"%Y-%m-%d\")\n",
    "\n",
    "for ticker in tqdm(tickers, desc=\"Processing\", unit=\"tickers\"):\n",
    "    \n",
    "    ticker = re.sub(r'\\.', '-', ticker)\n",
    "    \n",
    "    folder_path = 'yf'\n",
    "    file_name = f'{ticker}.csv'\n",
    "    file_path = os.path.join(folder_path, file_name)\n",
    "    \n",
    "    if os.path.exists(file_path):\n",
    "        #update csv\n",
    "        df = pd.read_csv(file_path)\n",
    "        last_date_str = df.loc[df.index[-1],'formatted_date']\n",
    "\n",
    "        start_date = datetime.strptime(last_date_str, \"%Y-%m-%d\") + timedelta(1)\n",
    "        start_date_str = start_date.strftime(\"%Y-%m-%d\")\n",
    "\n",
    "        if start_date < (current_date+timedelta(-1)):                \n",
    "            yahoo_financials = YahooFinancials(ticker)\n",
    "            data = yahoo_financials.get_historical_price_data(start_date = start_date_str, \n",
    "                                                              end_date = current_date_str, \n",
    "                                                              time_interval = 'daily')\n",
    "            if data[ticker] != None:\n",
    "                df_update = pd.DataFrame(data[ticker]['prices'])\n",
    "                df_update['ticker'] = ticker\n",
    "                #df=pd.concat([df, df_update], ignore_index=True,axis=0)\n",
    "                #df.to_csv(file_path, index = False)\n",
    "                df_update.to_csv(file_path, header=None, index=False, mode='a')\n",
    "        \n",
    "    else:\n",
    "        #create csv\n",
    "        start_date_str = '2004-01-01'\n",
    "        current_date_str = '2024-01-01'\n",
    "          \n",
    "        yahoo_financials = YahooFinancials(ticker)\n",
    "        data = yahoo_financials.get_historical_price_data(start_date=start_date_str, \n",
    "                                                          end_date=current_date_str, \n",
    "                                                          time_interval='daily')\n",
    "        df = pd.DataFrame(data[ticker]['prices'])\n",
    "        df['ticker'] = ticker\n",
    "        df.to_csv(file_path, index = False)\n",
    "            \n",
    "\n",
    "print(\"Download completed!\")"
   ]
  },
  {
   "cell_type": "code",
   "execution_count": 90,
   "id": "6b0a1459",
   "metadata": {},
   "outputs": [
    {
     "name": "stdout",
     "output_type": "stream",
     "text": [
      "['__class__', '__delattr__', '__dict__', '__dir__', '__doc__', '__eq__', '__format__', '__ge__', '__getattribute__', '__gt__', '__hash__', '__init__', '__init_subclass__', '__le__', '__lt__', '__module__', '__ne__', '__new__', '__reduce__', '__reduce_ex__', '__repr__', '__setattr__', '__sizeof__', '__str__', '__subclasshook__', '__weakref__', '_analysis', '_base_url', '_data', '_download_options', '_earnings', '_earnings_dates', '_expirations', '_fast_info', '_fetch_ticker_tz', '_financials', '_fix_bad_stock_split', '_fix_missing_div_adjust', '_fix_prices_sudden_change', '_fix_unit_mixups', '_fix_unit_random_mixups', '_fix_unit_switch', '_fix_zeroes', '_fundamentals', '_get_ticker_tz', '_history', '_history_metadata', '_history_metadata_formatted', '_holders', '_isin', '_news', '_options2df', '_quote', '_reconstruct_intervals_batch', '_reconstruct_start_interval', '_shares', '_tz', 'actions', 'analyst_price_target', 'balance_sheet', 'balancesheet', 'basic_info', 'calendar', 'capital_gains', 'cash_flow', 'cashflow', 'dividends', 'earnings', 'earnings_dates', 'earnings_forecasts', 'earnings_trend', 'fast_info', 'financials', 'get_actions', 'get_analyst_price_target', 'get_balance_sheet', 'get_balancesheet', 'get_calendar', 'get_capital_gains', 'get_cash_flow', 'get_cashflow', 'get_dividends', 'get_earnings', 'get_earnings_dates', 'get_earnings_forecast', 'get_earnings_trend', 'get_financials', 'get_history_metadata', 'get_income_stmt', 'get_incomestmt', 'get_info', 'get_institutional_holders', 'get_isin', 'get_major_holders', 'get_mutualfund_holders', 'get_news', 'get_recommendations', 'get_recommendations_summary', 'get_rev_forecast', 'get_shares', 'get_shares_full', 'get_splits', 'get_sustainability', 'get_trend_details', 'history', 'history_metadata', 'income_stmt', 'incomestmt', 'info', 'institutional_holders', 'isin', 'major_holders', 'mutualfund_holders', 'news', 'option_chain', 'options', 'quarterly_balance_sheet', 'quarterly_balancesheet', 'quarterly_cash_flow', 'quarterly_cashflow', 'quarterly_earnings', 'quarterly_financials', 'quarterly_income_stmt', 'quarterly_incomestmt', 'recommendations', 'recommendations_summary', 'revenue_forecasts', 'session', 'shares', 'splits', 'sustainability', 'ticker', 'trend_details']\n"
     ]
    }
   ],
   "source": [
    "ticker = \"aapl\"\n",
    "stock = yf.Ticker(ticker)\n",
    "print(dir(stock))"
   ]
  }
 ],
 "metadata": {
  "kernelspec": {
   "display_name": "Python 3 (ipykernel)",
   "language": "python",
   "name": "python3"
  },
  "language_info": {
   "codemirror_mode": {
    "name": "ipython",
    "version": 3
   },
   "file_extension": ".py",
   "mimetype": "text/x-python",
   "name": "python",
   "nbconvert_exporter": "python",
   "pygments_lexer": "ipython3",
   "version": "3.10.13"
  }
 },
 "nbformat": 4,
 "nbformat_minor": 5
}
